{
 "cells": [
  {
   "cell_type": "code",
   "execution_count": 1,
   "metadata": {},
   "outputs": [
    {
     "data": {
      "text/plain": [
       "'1.8.0'"
      ]
     },
     "execution_count": 1,
     "metadata": {},
     "output_type": "execute_result"
    }
   ],
   "source": [
    "import torch\n",
    "\n",
    "# get Pytorch version\n",
    "torch.__version__\n"
   ]
  },
  {
   "cell_type": "code",
   "execution_count": 2,
   "metadata": {},
   "outputs": [
    {
     "data": {
      "text/plain": [
       "'0.9.0'"
      ]
     },
     "execution_count": 2,
     "metadata": {},
     "output_type": "execute_result"
    }
   ],
   "source": [
    "# import torchvision\n",
    "import torchvision\n",
    "\n",
    "# get torchvision version\n",
    "torchvision.__version__"
   ]
  },
  {
   "cell_type": "code",
   "execution_count": 3,
   "metadata": {},
   "outputs": [],
   "source": [
    "import torch"
   ]
  },
  {
   "cell_type": "code",
   "execution_count": 4,
   "metadata": {},
   "outputs": [],
   "source": [
    "import torchvision"
   ]
  },
  {
   "cell_type": "markdown",
   "metadata": {},
   "source": [
    "## Loading a data"
   ]
  },
  {
   "cell_type": "code",
   "execution_count": 5,
   "metadata": {},
   "outputs": [],
   "source": [
    "import torch\n",
    "import torchvision\n",
    "#1. First, we will load the MNIST datasets:\n",
    "from torchvision import datasets\n",
    "#path to store data and/or load from\n",
    "path2data = \"./data\"\n",
    "#loading training data\n",
    "train_data = datasets.MNIST(path2data, train=True, download=True)"
   ]
  },
  {
   "cell_type": "code",
   "execution_count": 6,
   "metadata": {},
   "outputs": [
    {
     "name": "stdout",
     "output_type": "stream",
     "text": [
      "torch.Size([60000, 28, 28])\n",
      "torch.Size([60000])\n"
     ]
    }
   ],
   "source": [
    "#2. Then, we will extract the input data and target labels:\n",
    "#extract data and targets(데이터와 타겟을 추출하다.)\n",
    "x_train, y_train = train_data.data,train_data.targets\n",
    "\n",
    "print(x_train.shape)\n",
    "print(y_train.shape)"
   ]
  },
  {
   "cell_type": "code",
   "execution_count": 7,
   "metadata": {},
   "outputs": [],
   "source": [
    "#3. Next, we will load the MNIST  test dataset:\n",
    "#loading validation data\n",
    "val_data = datasets.MNIST(path2data, train = False, download = True)"
   ]
  },
  {
   "cell_type": "code",
   "execution_count": 8,
   "metadata": {},
   "outputs": [],
   "source": [
    "#4. Then, we will extract the input data and target labels:\n",
    "x_val, y_val = val_data.data, val_data.targets\n"
   ]
  },
  {
   "cell_type": "code",
   "execution_count": 9,
   "metadata": {},
   "outputs": [
    {
     "name": "stdout",
     "output_type": "stream",
     "text": [
      "torch.Size([60000, 1, 28, 28])\n",
      "torch.Size([10000, 1, 28, 28])\n"
     ]
    }
   ],
   "source": [
    "#5. After that, we will add a new dimension to the tensors:\n",
    "if len(x_train.shape) == 3:\n",
    "    x_train = x_train.unsqueeze(1)\n",
    "\n",
    "print(x_train.shape)\n",
    "\n",
    "if len(x_val.shape) == 3:\n",
    "    x_val = x_val.unsqueeze(1)\n",
    "\n",
    "print(x_val.shape)"
   ]
  },
  {
   "cell_type": "code",
   "execution_count": 10,
   "metadata": {},
   "outputs": [],
   "source": [
    "#6. Next, we will import the required packages:\n",
    "from torchvision import utils\n",
    "import matplotlib.pyplot as plt\n",
    "import numpy as np\n",
    "%matplotlib inline"
   ]
  },
  {
   "cell_type": "code",
   "execution_count": 11,
   "metadata": {},
   "outputs": [],
   "source": [
    "# 7. 텐서를 이미지로 표시하는 함수 정의\n",
    "def show(img):\n",
    "    # 텐서를 넘파이 배열로 변환 => .numpy\n",
    "    npimg = img.numpy()\n",
    "    # 행과 열을 바꾸는 transpose 함수를 이용해 크기를 바꾸기\n",
    "    # npimg 넘파이 배열은 (채널 * 높이 * 넓이)로 되어있는데\n",
    "    # 채널을 0, 높이를 1, 넓이를 2\n",
    "    # 얘네를 높이*넓이*채널로 바꿈\n",
    "    npimg_tr = np.transpose(npimg, (1,2,0))\n",
    "    # interpolation = 보간법\n",
    "    # 16가지 보간법 중 가장 고해상도를 나타내는 보간법 = \"nearest\"\n",
    "    # imshow()는 행렬 형태의 2차원 데이터를 색깔로 표시해주는 함수\n",
    "    plt.imshow(npimg_tr, interpolation='nearest')"
   ]
  },
  {
   "cell_type": "code",
   "execution_count": 12,
   "metadata": {},
   "outputs": [
    {
     "name": "stdout",
     "output_type": "stream",
     "text": [
      "torch.Size([3, 152, 242])\n"
     ]
    },
    {
     "data": {
      "image/png": "[encoded data removed]",
      "text/plain": [
       "<Figure size 432x288 with 1 Axes>"
      ]
     },
     "metadata": {
      "needs_background": "light"
     },
     "output_type": "display_data"
    }
   ],
   "source": [
    "# 8. 그리드 이미지를 만들어 전시하기 40개의 그리드 이미지를 만들고 당 8개의 이미지\n",
    "# make_grid로 이미지를 살펴볼 수 있다.\n",
    "# nrow는 각 행에 몇 개의 그리드가 표시되기를 원하는지 묻는것\n",
    "# padding의 기본값은 2\n",
    "# 이미지 테두리에 2pixel의 둘레가 검은색선으로 있다.\n",
    "x_grid = utils.make_grid(x_train[:40], nrow=8, padding=2)\n",
    "print(x_grid.shape)\n",
    "\n",
    "show(x_grid)"
   ]
  },
  {
   "cell_type": "markdown",
   "metadata": {},
   "source": [
    "make_grid의 옵션을 여럿 바꿔보니 torch.shape가 달라진다는 사실을 얻었다.<br>\n",
    "x_train 개수를 임의로 잘라보니\n",
    "1) 32개 => torch.Size([3,122,242])<br>\n",
    "2) 40개 => torch.Size([3,152,242])<br>\n",
    "3) 48개 => torch.Size([3,182,242])<br>\n",
    "\n",
    "하나의 사진이 높이가 30이다.<br>\n",
    "패딩의 사이즈를 바꾸면 바꾼 만큼 증가하거나 감소한다.<br>\n",
    "가로축의 길이는 nrow를 얼마를 하는지에 따라 달라진다."
   ]
  },
  {
   "cell_type": "markdown",
   "metadata": {},
   "source": [
    "# Data transformaation(데이터 변환)\n",
    "\n",
    "Image transformation is an effective technique that's used to improve a model's performance(성능). The torchvision pacakge provides common image transformations through the transform class. Let's take a look:"
   ]
  },
  {
   "cell_type": "markdown",
   "metadata": {},
   "source": [
    "데이터 변환은 모델의 성능을 향상시키는데 사용되는 효과적인 기술이다.\n",
    "torchvision 패키지는 transform class를 통해 이미지 변환을 제공한다."
   ]
  },
  {
   "cell_type": "code",
   "execution_count": 13,
   "metadata": {},
   "outputs": [],
   "source": [
    "# 1. 이미지 변환을 적용하기 위해 변환 클래스 정의 (MNIST 데이터셋으로)\n",
    "from torchvision import transforms\n",
    "\n",
    "# MNIST train 데이터셋 가져오기\n",
    "train_data = datasets.MNIST(path2data, train=True, download=True)\n",
    "\n",
    "# trasnformation 정의\n",
    "# torchvisiond의 transofrms는 다양한 이미지 변환 기능을 제공한다.\n",
    "# Compose는 여러 transform들로 구성할 수 있는것이다.\n",
    "# RandomHorizontalFlip = 이미지를 랜덤으로 수평하게 뒤집음\n",
    "# RandomVerticalFlip = 이미지를 랜덤하게 수직으로 뒤집음\n",
    "# 이때 p가 0이면 뒤집지 않는다.\n",
    "# ToTensor() = 이미지 데이터를 텐서로 변환한다.\n",
    "data_transform = transforms.Compose([\n",
    "                      transforms.RandomHorizontalFlip(p=1),\n",
    "                      transforms.RandomVerticalFlip(p=1),\n",
    "                      transforms.ToTensor(),\n",
    "])"
   ]
  },
  {
   "cell_type": "markdown",
   "metadata": {},
   "source": [
    "transforms의 여러 기능들\n",
    "\n",
    "1) torchvision.transforms.ToTensor<br>\n",
    ": PIL 이미지 또는 numpy.ndarray를 pytorch의 텐서로 변환<br>\n",
    "2) torchvision.transforms.Normalize(mean,std,inplace=False)<br>\n",
    ": 평균과 표준편차를 사용해 이미지를 정규화시켜준다.inplace는 원본 데이터까지 영향을 미칠지 선택하는건데 false는 영향을 안주는 것이다.<br>\n",
    "3) torchvision.transforms.Compose<br> \n",
    ": 여러 transform들을 compose로 구성할 수 있다."
   ]
  },
  {
   "cell_type": "code",
   "execution_count": 14,
   "metadata": {},
   "outputs": [],
   "source": [
    "# 2. train datasets으로 적용해봅시다.\n",
    "# train_data[개수 0 ~ 59999][0 = 그림, 1 = 라벨]\n",
    "img = train_data[2][0]\n",
    "\n",
    "# img를 data_traansform에 넣음\n",
    "img_tr = data_transform(img)\n",
    "\n",
    "# 이미지 변환이 된 텐서를 넘파이 배열로 바꿈\n",
    "img_tr_np = img_tr.numpy()"
   ]
  },
  {
   "cell_type": "code",
   "execution_count": 15,
   "metadata": {},
   "outputs": [
    {
     "data": {
      "text/plain": [
       "array([[0.        , 0.        , 0.        , 0.        , 0.        ,\n",
       "        0.        , 0.        , 0.        , 0.        , 0.        ,\n",
       "        0.        , 0.        , 0.        , 0.        , 0.        ,\n",
       "        0.        , 0.        , 0.        , 0.        , 0.        ,\n",
       "        0.        , 0.        , 0.        , 0.        , 0.        ,\n",
       "        0.        , 0.        , 0.        ],\n",
       "       [0.        , 0.        , 0.        , 0.        , 0.        ,\n",
       "        0.        , 0.        , 0.        , 0.        , 0.        ,\n",
       "        0.        , 0.        , 0.        , 0.        , 0.        ,\n",
       "        0.        , 0.        , 0.        , 0.        , 0.        ,\n",
       "        0.        , 0.        , 0.        , 0.        , 0.        ,\n",
       "        0.        , 0.        , 0.        ],\n",
       "       [0.        , 0.        , 0.        , 0.        , 0.        ,\n",
       "        0.        , 0.        , 0.        , 0.        , 0.        ,\n",
       "        0.        , 0.        , 0.        , 0.        , 0.        ,\n",
       "        0.        , 0.        , 0.        , 0.        , 0.        ,\n",
       "        0.        , 0.        , 0.        , 0.        , 0.        ,\n",
       "        0.        , 0.        , 0.        ],\n",
       "       [0.        , 0.        , 0.        , 0.        , 0.        ,\n",
       "        0.        , 0.        , 0.        , 0.6       , 0.99607843,\n",
       "        0.3764706 , 0.        , 0.        , 0.        , 0.        ,\n",
       "        0.        , 0.        , 0.        , 0.        , 0.        ,\n",
       "        0.        , 0.        , 0.        , 0.        , 0.        ,\n",
       "        0.        , 0.        , 0.        ],\n",
       "       [0.        , 0.        , 0.        , 0.        , 0.        ,\n",
       "        0.        , 0.        , 0.        , 0.6       , 1.        ,\n",
       "        0.6627451 , 0.        , 0.        , 0.        , 0.        ,\n",
       "        0.        , 0.        , 0.        , 0.        , 0.        ,\n",
       "        0.        , 0.        , 0.        , 0.        , 0.        ,\n",
       "        0.        , 0.        , 0.        ],\n",
       "       [0.        , 0.        , 0.        , 0.        , 0.        ,\n",
       "        0.        , 0.        , 0.        , 0.6       , 0.99607843,\n",
       "        0.6627451 , 0.        , 0.        , 0.        , 0.        ,\n",
       "        0.        , 0.        , 0.        , 0.        , 0.        ,\n",
       "        0.        , 0.        , 0.        , 0.        , 0.        ,\n",
       "        0.        , 0.        , 0.        ],\n",
       "       [0.        , 0.        , 0.        , 0.        , 0.        ,\n",
       "        0.        , 0.        , 0.        , 0.3764706 , 0.99607843,\n",
       "        0.6627451 , 0.        , 0.        , 0.        , 0.        ,\n",
       "        0.        , 0.        , 0.        , 0.        , 0.        ,\n",
       "        0.        , 0.        , 0.        , 0.        , 0.        ,\n",
       "        0.        , 0.        , 0.        ],\n",
       "       [0.        , 0.        , 0.        , 0.        , 0.        ,\n",
       "        0.        , 0.        , 0.        , 0.36862746, 1.        ,\n",
       "        0.6627451 , 0.        , 0.        , 0.        , 0.        ,\n",
       "        0.        , 0.        , 0.        , 0.        , 0.        ,\n",
       "        0.        , 0.        , 0.        , 0.        , 0.        ,\n",
       "        0.        , 0.        , 0.        ],\n",
       "       [0.        , 0.        , 0.        , 0.        , 0.        ,\n",
       "        0.        , 0.        , 0.        , 0.22352941, 0.99607843,\n",
       "        0.6627451 , 0.        , 0.        , 0.        , 0.        ,\n",
       "        0.        , 0.        , 0.        , 0.        , 0.        ,\n",
       "        0.        , 0.        , 0.        , 0.        , 0.        ,\n",
       "        0.        , 0.        , 0.        ],\n",
       "       [0.        , 0.        , 0.        , 0.        , 0.        ,\n",
       "        0.        , 0.        , 0.        , 0.22352941, 0.99607843,\n",
       "        0.6627451 , 0.        , 0.        , 0.        , 0.        ,\n",
       "        0.        , 0.        , 0.        , 0.        , 0.        ,\n",
       "        0.        , 0.        , 0.        , 0.        , 0.        ,\n",
       "        0.        , 0.        , 0.        ],\n",
       "       [0.        , 0.        , 0.        , 0.        , 0.        ,\n",
       "        0.        , 0.        , 0.        , 0.5372549 , 0.99607843,\n",
       "        0.6627451 , 0.        , 0.        , 0.        , 0.        ,\n",
       "        0.        , 0.        , 0.        , 0.        , 0.        ,\n",
       "        0.        , 0.        , 0.        , 0.        , 0.        ,\n",
       "        0.        , 0.        , 0.        ],\n",
       "       [0.        , 0.        , 0.        , 0.        , 0.        ,\n",
       "        0.        , 0.        , 0.        , 0.8627451 , 0.99607843,\n",
       "        0.4       , 0.        , 0.        , 0.        , 0.        ,\n",
       "        0.        , 0.21960784, 0.38431373, 0.69411767, 0.69411767,\n",
       "        0.69411767, 0.69411767, 0.69411767, 0.46666667, 0.        ,\n",
       "        0.        , 0.        , 0.        ],\n",
       "       [0.        , 0.        , 0.        , 0.        , 0.        ,\n",
       "        0.        , 0.        , 0.        , 0.98039216, 0.9137255 ,\n",
       "        0.01960784, 0.10980392, 0.35686275, 0.56078434, 0.7764706 ,\n",
       "        0.9411765 , 0.98039216, 0.99607843, 0.99215686, 0.8117647 ,\n",
       "        0.8117647 , 0.8117647 , 0.92941177, 0.99215686, 0.5882353 ,\n",
       "        0.        , 0.        , 0.        ],\n",
       "       [0.        , 0.        , 0.        , 0.        , 0.        ,\n",
       "        0.        , 0.        , 0.15686275, 0.9882353 , 0.94509804,\n",
       "        0.7019608 , 0.91764706, 0.9529412 , 0.94509804, 0.5882353 ,\n",
       "        0.5647059 , 0.45490196, 0.19215687, 0.18431373, 0.        ,\n",
       "        0.        , 0.        , 0.33333334, 0.99607843, 0.62352943,\n",
       "        0.        , 0.        , 0.        ],\n",
       "       [0.        , 0.        , 0.        , 0.        , 0.        ,\n",
       "        0.        , 0.        , 0.35686275, 0.99607843, 0.972549  ,\n",
       "        0.69803923, 0.3372549 , 0.05490196, 0.        , 0.        ,\n",
       "        0.        , 0.        , 0.        , 0.        , 0.        ,\n",
       "        0.        , 0.        , 0.2627451 , 0.99607843, 0.62352943,\n",
       "        0.        , 0.        , 0.        ],\n",
       "       [0.        , 0.        , 0.        , 0.        , 0.        ,\n",
       "        0.        , 0.0627451 , 0.84705883, 0.99607843, 0.6392157 ,\n",
       "        0.        , 0.        , 0.        , 0.        , 0.        ,\n",
       "        0.        , 0.        , 0.        , 0.        , 0.        ,\n",
       "        0.        , 0.        , 0.47058824, 0.99607843, 0.62352943,\n",
       "        0.        , 0.        , 0.        ],\n",
       "       [0.        , 0.        , 0.        , 0.        , 0.        ,\n",
       "        0.        , 0.11372549, 0.99607843, 0.90588236, 0.09019608,\n",
       "        0.        , 0.        , 0.        , 0.        , 0.        ,\n",
       "        0.        , 0.        , 0.        , 0.        , 0.        ,\n",
       "        0.        , 0.        , 0.6392157 , 0.99607843, 0.47058824,\n",
       "        0.        , 0.        , 0.        ],\n",
       "       [0.        , 0.        , 0.        , 0.        , 0.        ,\n",
       "        0.        , 0.21960784, 0.99607843, 0.7764706 , 0.        ,\n",
       "        0.        , 0.        , 0.        , 0.        , 0.        ,\n",
       "        0.        , 0.        , 0.        , 0.        , 0.        ,\n",
       "        0.        , 0.        , 0.6392157 , 0.9607843 , 0.18039216,\n",
       "        0.        , 0.        , 0.        ],\n",
       "       [0.        , 0.        , 0.        , 0.        , 0.        ,\n",
       "        0.        , 0.49019608, 0.99607843, 0.7176471 , 0.        ,\n",
       "        0.        , 0.        , 0.        , 0.        , 0.        ,\n",
       "        0.        , 0.        , 0.        , 0.        , 0.        ,\n",
       "        0.        , 0.        , 0.6392157 , 0.87058824, 0.        ,\n",
       "        0.        , 0.        , 0.        ],\n",
       "       [0.        , 0.        , 0.        , 0.        , 0.        ,\n",
       "        0.        , 0.63529414, 0.99607843, 0.10588235, 0.        ,\n",
       "        0.        , 0.        , 0.        , 0.        , 0.        ,\n",
       "        0.        , 0.        , 0.        , 0.        , 0.        ,\n",
       "        0.        , 0.        , 0.6392157 , 0.8627451 , 0.        ,\n",
       "        0.        , 0.        , 0.        ],\n",
       "       [0.        , 0.        , 0.        , 0.        , 0.        ,\n",
       "        0.15686275, 0.8235294 , 0.6       , 0.00784314, 0.        ,\n",
       "        0.        , 0.        , 0.        , 0.        , 0.        ,\n",
       "        0.        , 0.        , 0.        , 0.        , 0.        ,\n",
       "        0.        , 0.        , 0.6392157 , 0.49411765, 0.        ,\n",
       "        0.        , 0.        , 0.        ],\n",
       "       [0.        , 0.        , 0.        , 0.        , 0.        ,\n",
       "        0.15294118, 0.7058824 , 0.47058824, 0.        , 0.        ,\n",
       "        0.        , 0.        , 0.        , 0.        , 0.        ,\n",
       "        0.        , 0.        , 0.        , 0.        , 0.        ,\n",
       "        0.        , 0.        , 0.31764707, 0.24313726, 0.        ,\n",
       "        0.        , 0.        , 0.        ],\n",
       "       [0.        , 0.        , 0.        , 0.        , 0.        ,\n",
       "        0.15294118, 0.9098039 , 0.2627451 , 0.        , 0.        ,\n",
       "        0.        , 0.        , 0.        , 0.        , 0.        ,\n",
       "        0.        , 0.        , 0.        , 0.        , 0.        ,\n",
       "        0.        , 0.        , 0.        , 0.        , 0.        ,\n",
       "        0.        , 0.        , 0.        ],\n",
       "       [0.        , 0.        , 0.        , 0.        , 0.        ,\n",
       "        0.        , 0.        , 0.        , 0.        , 0.        ,\n",
       "        0.        , 0.        , 0.        , 0.        , 0.        ,\n",
       "        0.        , 0.        , 0.        , 0.        , 0.        ,\n",
       "        0.        , 0.        , 0.        , 0.        , 0.        ,\n",
       "        0.        , 0.        , 0.        ],\n",
       "       [0.        , 0.        , 0.        , 0.        , 0.        ,\n",
       "        0.        , 0.        , 0.        , 0.        , 0.        ,\n",
       "        0.        , 0.        , 0.        , 0.        , 0.        ,\n",
       "        0.        , 0.        , 0.        , 0.        , 0.        ,\n",
       "        0.        , 0.        , 0.        , 0.        , 0.        ,\n",
       "        0.        , 0.        , 0.        ],\n",
       "       [0.        , 0.        , 0.        , 0.        , 0.        ,\n",
       "        0.        , 0.        , 0.        , 0.        , 0.        ,\n",
       "        0.        , 0.        , 0.        , 0.        , 0.        ,\n",
       "        0.        , 0.        , 0.        , 0.        , 0.        ,\n",
       "        0.        , 0.        , 0.        , 0.        , 0.        ,\n",
       "        0.        , 0.        , 0.        ],\n",
       "       [0.        , 0.        , 0.        , 0.        , 0.        ,\n",
       "        0.        , 0.        , 0.        , 0.        , 0.        ,\n",
       "        0.        , 0.        , 0.        , 0.        , 0.        ,\n",
       "        0.        , 0.        , 0.        , 0.        , 0.        ,\n",
       "        0.        , 0.        , 0.        , 0.        , 0.        ,\n",
       "        0.        , 0.        , 0.        ],\n",
       "       [0.        , 0.        , 0.        , 0.        , 0.        ,\n",
       "        0.        , 0.        , 0.        , 0.        , 0.        ,\n",
       "        0.        , 0.        , 0.        , 0.        , 0.        ,\n",
       "        0.        , 0.        , 0.        , 0.        , 0.        ,\n",
       "        0.        , 0.        , 0.        , 0.        , 0.        ,\n",
       "        0.        , 0.        , 0.        ]], dtype=float32)"
      ]
     },
     "execution_count": 15,
     "metadata": {},
     "output_type": "execute_result"
    }
   ],
   "source": [
    "img_tr_np[0]"
   ]
  },
  {
   "cell_type": "code",
   "execution_count": 16,
   "metadata": {},
   "outputs": [
    {
     "data": {
      "image/png": "[encoded data removed]",
      "text/plain": [
       "<PIL.Image.Image image mode=L size=28x28 at 0x2411B4E0220>"
      ]
     },
     "execution_count": 16,
     "metadata": {},
     "output_type": "execute_result"
    }
   ],
   "source": [
    "train_data[59999][0]"
   ]
  },
  {
   "cell_type": "code",
   "execution_count": 17,
   "metadata": {},
   "outputs": [
    {
     "data": {
      "text/plain": [
       "Text(0.5, 1.0, 'transformed')"
      ]
     },
     "execution_count": 17,
     "metadata": {},
     "output_type": "execute_result"
    },
    {
     "data": {
      "image/png": "[encoded data removed]",
      "text/plain": [
       "<Figure size 432x288 with 2 Axes>"
      ]
     },
     "metadata": {
      "needs_background": "light"
     },
     "output_type": "display_data"
    }
   ],
   "source": [
    "# 이미지와 변환된 이미지를 보여줌.\n",
    "# (1,2)에서 (1,1)에 원본을, (1,2)에 변환된 이미지를 보여줌\n",
    "plt.subplot(1,2,1)\n",
    "plt.imshow(img, cmap=\"Blues\")\n",
    "plt.title(\"original\")\n",
    "plt.subplot(1,2,2)\n",
    "plt.imshow(img_tr_np[0], cmap='gray')\n",
    "plt.title(\"transformed\")"
   ]
  },
  {
   "cell_type": "code",
   "execution_count": 18,
   "metadata": {},
   "outputs": [],
   "source": [
    "# 3. transform function를 데이터 셋 클래스에 전달할 수 있다.\n",
    "# define transformations\n",
    "data_transform = transforms.Compose([\n",
    "                  transforms.RandomHorizontalFlip(1),\n",
    "                  transforms.RandomVerticalFlip(1),\n",
    "                  transforms.ToTensor(),])\n",
    "\n",
    "# MNIST 데이터셋을 data_transform으로 변환시킨 데이터셋만들기\n",
    "train_data = datasets.MNIST(path2data, train=True, download=True, transform=data_transform)"
   ]
  },
  {
   "cell_type": "markdown",
   "metadata": {},
   "source": [
    "### 다음 섹션에서는 우리는 데이터셋을 텐서로 바꾼다."
   ]
  },
  {
   "cell_type": "markdown",
   "metadata": {},
   "source": [
    "# Wrapping(싸다) tensors into a dataset\n",
    "\n",
    "\n",
    "If your data is available in tensors, you can wrap them as as Pytorch dataset using the Tensor Dataset class. This will make it easier to iterate(반복하다) over data during training. Let's get started :"
   ]
  },
  {
   "cell_type": "markdown",
   "metadata": {},
   "source": [
    "데이터셋을 Tensor Dataset 클래스를 사용해 Pytorch 데이터 셋으로 래핑할 수 있다. 이것은 훈련 중에 데이터를 더 쉽게 반복할 수 있다."
   ]
  },
  {
   "cell_type": "code",
   "execution_count": 19,
   "metadata": {},
   "outputs": [
    {
     "name": "stdout",
     "output_type": "stream",
     "text": [
      "torch.Size([1, 28, 28]) 5\n"
     ]
    }
   ],
   "source": [
    "#1. Let's create a Pytorch dataset by wrapping x_train, y_train:\n",
    "from torch.utils.data import TensorDataset\n",
    "\n",
    "# 데이터셋을 텐서로 래핑하다.\n",
    "# 파이토치는 Dataset와 DataLoader라는 기능이 있어 미니 배치 학습이나\n",
    "# 데이터 셔플, 병렬처리 등 간단하게 수행할 수 있다.\n",
    "# TensorDataset은 Dataset을 상속한 클래스로 x,y로 묶어 놓은 컨테이너이다.\n",
    "# TensorDataset을 DataLoader에 전달하면 for 루프에서 데이터의 일부분만 간단히\n",
    "# 추출할 수 있게 된다.\n",
    "train_ds = TensorDataset(x_train, y_train)\n",
    "val_ds = TensorDataset(x_val, y_val)\n",
    "\n",
    "for x,y in train_ds :\n",
    "    print(x.shape, y.item())\n",
    "    break"
   ]
  },
  {
   "cell_type": "markdown",
   "metadata": {},
   "source": [
    "# Creating data loaders\n",
    "\n",
    "To easily iterate over the data during training, we can create a data loader using the DataLoder class, as following:"
   ]
  },
  {
   "cell_type": "markdown",
   "metadata": {},
   "source": [
    "훈련 중 데이터를 쉽게 반복하기 위해 DataLoader 클래스를 사용해 데이터 로더를 만들 수 있다."
   ]
  },
  {
   "cell_type": "markdown",
   "metadata": {},
   "source": [
    "데이터 로더를 쓰는 이유?<br>\n",
    "속도를 빠르게 해준다. 앞에 배치 사이즈 지정란을 지정하면 프로그램을 쉽게 짤 수 있다."
   ]
  },
  {
   "cell_type": "code",
   "execution_count": 20,
   "metadata": {},
   "outputs": [
    {
     "name": "stdout",
     "output_type": "stream",
     "text": [
      "torch.Size([8, 1, 28, 28])\n",
      "torch.Size([8])\n"
     ]
    }
   ],
   "source": [
    "# 1. train과 val datasets을 위한 두 개의 DataLoader를 만들자.\n",
    "from torch.utils.data import DataLoader\n",
    "\n",
    "# 8개씩 데이터를 변환하는 DataLoader 만들기\n",
    "train_dl = DataLoader(train_ds, batch_size=8)\n",
    "val_dl = DataLoader(val_ds, batch_size=8)\n",
    "\n",
    "# 배치 반복\n",
    "for xb, yb in train_dl:\n",
    "    print(xb.shape)\n",
    "    print(yb.shape)\n",
    "    break\n"
   ]
  },
  {
   "cell_type": "markdown",
   "metadata": {},
   "source": [
    "# Building Models (이제 모델을 짜보자 !\\)\n",
    "\n",
    "A model is a collection of connected layers that process the inputs to generate the outputs. You can use the nn package to define models. The nn package is a collection of modules that provide common deep learning layers. A module or layer of nn receives input tensors, computes output tensors, and holds the weights, if any. There are two methods we can use to define models in Pytorch: nn.Sequential and nn.Module."
   ]
  },
  {
   "cell_type": "markdown",
   "metadata": {},
   "source": [
    "# How to do it...\n",
    "We will define a linear layer, a two-layer network, and a multilayer convolutional network."
   ]
  },
  {
   "cell_type": "markdown",
   "metadata": {},
   "source": [
    "# Defining a linear layer\n",
    "\n",
    "Let's create a linear layer and print out its output size:"
   ]
  },
  {
   "cell_type": "code",
   "execution_count": 21,
   "metadata": {},
   "outputs": [
    {
     "name": "stdout",
     "output_type": "stream",
     "text": [
      "torch.Size([64, 100])\n"
     ]
    }
   ],
   "source": [
    "import torch\n",
    "from torch import nn\n",
    "\n",
    "#input tensor dimension(치수) 64 * 1000\n",
    "input_tensor = torch.randn(64,1000) \n",
    "# 평균이 0이고 표준편차가 1인 가우시안 정규분포를 이용해 생성\n",
    "\n",
    "# linear layer with 1000 inputs and 100 outputs\n",
    "# 모델을 선언 및 초기화\n",
    "# 입력이 1000개의 features이고 출력은 100개의 features인 y = x*1000+t*100\n",
    "linear_layer = nn.Linear(1000,100)\n",
    "\n",
    "# output of the linear layer\n",
    "output = linear_layer(input_tensor)\n",
    "print(output.size())"
   ]
  },
  {
   "cell_type": "code",
   "execution_count": 22,
   "metadata": {},
   "outputs": [
    {
     "name": "stdout",
     "output_type": "stream",
     "text": [
      "torch.Size([64, 100])\n"
     ]
    }
   ],
   "source": [
    "print(output.size())"
   ]
  },
  {
   "cell_type": "code",
   "execution_count": 23,
   "metadata": {},
   "outputs": [
    {
     "data": {
      "text/plain": [
       "torch.Size([64, 1000])"
      ]
     },
     "execution_count": 23,
     "metadata": {},
     "output_type": "execute_result"
    }
   ],
   "source": [
    "input_tensor.shape"
   ]
  },
  {
   "cell_type": "markdown",
   "metadata": {},
   "source": [
    "# Defining models using nn.Sequential\n",
    "We can use the nn.Sequential package to create a deep learning model by passing layers in order(순서대로 레이어 전달). Consider the two-layer neural network depicted(표시하다) in the following image:"
   ]
  },
  {
   "cell_type": "code",
   "execution_count": 24,
   "metadata": {},
   "outputs": [
    {
     "name": "stdout",
     "output_type": "stream",
     "text": [
      "Sequential(\n",
      "  (0): Linear(in_features=4, out_features=5, bias=True)\n",
      "  (1): ReLU()\n",
      "  (2): Linear(in_features=5, out_features=1, bias=True)\n",
      ")\n"
     ]
    }
   ],
   "source": [
    "#1. Let's implement(도구) and print the model using nn.Sequential:\n",
    "# nn.Sequential 모델을 이용해 프린트해보아라.\n",
    "\n",
    "from torch import nn\n",
    "\n",
    "#define a two-layer model\n",
    "model = nn.Sequential(\n",
    "    nn.Linear(4,5),\n",
    "    nn.ReLU(),# 활성화 함수로 ReLU 사용\n",
    "    nn.Linear(5,1),\n",
    ")\n",
    "print(model) # 두 층 모델 "
   ]
  },
  {
   "cell_type": "markdown",
   "metadata": {},
   "source": [
    "# Defining models using nn.Module\n",
    "Another way of defining models in Pytorch is by subclassing the nn.Module class. In this method, we specify the layers in the init method of the class. Then, in the forward method, we specify the layers to inputs. This method provides better flexibility for building customized models."
   ]
  },
  {
   "cell_type": "markdown",
   "metadata": {},
   "source": [
    "Pytorch에서 모델을 정의하는 또 다른 방법은 nn.Module 클래스 서브클래싱하는 것이다. init 메서드에서 레이어를 지정한다.그 후 forward 방법에서 입력할 레이어 지정. 이 방법은 사용자 정의된 모델을 빌드하는데 더 나은 유연성을 제공한다."
   ]
  },
  {
   "cell_type": "code",
   "execution_count": 25,
   "metadata": {},
   "outputs": [],
   "source": [
    "#1.클래스 대부분을 지정\n",
    "# F : nn과 같은 모듈이 모아져 있지만 함수의 input으로 반드시 연산이 되어야함.\n",
    "# torch.nn.Module은 뉴럴 네트워크 모듈의 기본 클래스이다.\n",
    "# __init__ : 신경망 레이어의 구성요소들을 정의\n",
    "# __forward__ : 호출될 때 수행되는 연산을 정의\n",
    "# torch.nn.Module : 상속받은 모든 클래스에서 우세해야 한다.\n",
    "import torch.nn.functional as F\n",
    "class Net(nn.Module):\n",
    "    def __init__(self):\n",
    "        super(Net, self).__init__()\n",
    "\n",
    "    def forward(self, x):\n",
    "        pass"
   ]
  },
  {
   "cell_type": "code",
   "execution_count": 26,
   "metadata": {},
   "outputs": [],
   "source": [
    "#2. __init__ 함수를 정의한다.\n",
    "\n",
    "def __init__(self) :\n",
    "    super(Net, self).__init__()\n",
    "    self.conv1 = nn.Conv2d(1, 20, 5, 1)\n",
    "    self.conv2 = nn.Conv2d(20, 50, 5, 1)\n",
    "    # 4*4 크기의 이미지가 특징 50개를 가진채 나온다.\n",
    "    self.fc1 = nn.Linear(4*4*50, 500)\n",
    "    self.fc2 = nn.Linear(500,10)"
   ]
  },
  {
   "cell_type": "markdown",
   "metadata": {},
   "source": [
    "파라미터들\n",
    "torch.nn.Conv2d(\n",
    "    in_channels, \n",
    "    out_channels, \n",
    "    kernel_size, \n",
    "    stride=1, \n",
    "    padding=0, \n",
    "    dilation=1, \n",
    "    groups=1, \n",
    "    bias=True, \n",
    "    padding_mode='zeros'\n",
    ")"
   ]
  },
  {
   "attachments": {
    "image.png": {
     "image/png": "[encoded data removed]"
    }
   },
   "cell_type": "markdown",
   "metadata": {},
   "source": [
    "![image.png](attachment:image.png)"
   ]
  },
  {
   "cell_type": "markdown",
   "metadata": {},
   "source": [
    "torch.nn.MaxPool2d(kernel_size, stride=None, padding=0, dilation=1,return_indices=False, ceil_mode=False )"
   ]
  },
  {
   "cell_type": "code",
   "execution_count": 27,
   "metadata": {},
   "outputs": [],
   "source": [
    "#3. Next, we will define the forward function:\n",
    "def forward(self, x):\n",
    "    x = F.relu(self.conv1(x))\n",
    "    x = F.max_pool2d(x,2,2)\n",
    "    x = F.relu(self.conv2(x))\n",
    "    x = F.max_pool2d(x,2,2)\n",
    "    # flatten\n",
    "    x = x.view(-1, 4*4*50)\n",
    "    x = F.relu(self.fc1(x))\n",
    "    x = self.fc2(x)\n",
    "    return F.log_softmax(x, dim = 1)"
   ]
  },
  {
   "attachments": {
    "image.png": {
     "image/png": "[encoded data removed]"
    }
   },
   "cell_type": "markdown",
   "metadata": {},
   "source": [
    "![image.png](attachment:image.png)"
   ]
  },
  {
   "cell_type": "markdown",
   "metadata": {},
   "source": [
    "## 클래스 상속\n",
    "\n",
    "클래스 상속은 물려받은 기능을 유지한 채 다른 기능을 추가할 때 사용하는 기능이다.\n",
    "기능을 물려주는 클래스는 기본 클래스라고 하고 상속을 받아 새롭게 만드는 클래스를 파생 클래스 라고 한다.\n",
    "\n",
    "기본 클래스 = 부모 클래스 또는 슈퍼 클래스<br>\n",
    "파생 클래스 = 자식 클래스 또는 서브 클래스"
   ]
  },
  {
   "cell_type": "markdown",
   "metadata": {},
   "source": [
    "https://velog.io/@jacoblee19/Python-%ED%81%B4%EB%9E%98%EC%8A%A4-%EC%83%81%EC%86%8D-pnrp7933"
   ]
  },
  {
   "cell_type": "markdown",
   "metadata": {},
   "source": [
    "## super() 기반 클래스 초기화하기"
   ]
  },
  {
   "cell_type": "code",
   "execution_count": 28,
   "metadata": {},
   "outputs": [
    {
     "name": "stdout",
     "output_type": "stream",
     "text": [
      "Student__init__\n",
      "Person __init__\n"
     ]
    }
   ],
   "source": [
    "# 객체 지향 언어 -> class를 정의해 class로부터 객체 정의\n",
    "# 입력\n",
    "class Person:\n",
    "    def __init__(self):\n",
    "        print('Person __init__')\n",
    "        self.hello = '안녕하세요.'\n",
    "\n",
    "class Student(Person):\n",
    "    def __init__(self):\n",
    "        print('Student__init__')\n",
    "        super().__init__()\n",
    "        self.school = '파이썬 코딩 도장'\n",
    "\n",
    "jacob = Student()\n",
    "#print(jacob.school)\n",
    "#print(jacob.hello)"
   ]
  },
  {
   "cell_type": "markdown",
   "metadata": {},
   "source": [
    "## 매소드 오버라이딩"
   ]
  },
  {
   "cell_type": "code",
   "execution_count": 29,
   "metadata": {},
   "outputs": [
    {
     "name": "stdout",
     "output_type": "stream",
     "text": [
      "안녕하세요. 저는 위코드 15기 학생입니다.\n"
     ]
    }
   ],
   "source": [
    "# 입력\n",
    "class Person:\n",
    "    def greeting(self):\n",
    "        print('안녕하세요.')\n",
    "\n",
    "class Student(Person):\n",
    "    def greeting(self):\n",
    "        print('안녕하세요. 저는 위코드 15기 학생입니다.')\n",
    "\n",
    "jacob = Student()\n",
    "jacob.greeting()"
   ]
  },
  {
   "cell_type": "markdown",
   "metadata": {},
   "source": [
    "https://highsg.tistory.com/29"
   ]
  },
  {
   "cell_type": "code",
   "execution_count": 30,
   "metadata": {},
   "outputs": [],
   "source": [
    "#4. __init__와 forward 클래스 함수를 재정의함\n",
    "Net.__init__ = __init__\n",
    "Net.forward = forward"
   ]
  },
  {
   "cell_type": "code",
   "execution_count": 31,
   "metadata": {},
   "outputs": [
    {
     "name": "stdout",
     "output_type": "stream",
     "text": [
      "Net(\n",
      "  (conv1): Conv2d(1, 20, kernel_size=(5, 5), stride=(1, 1))\n",
      "  (conv2): Conv2d(20, 50, kernel_size=(5, 5), stride=(1, 1))\n",
      "  (fc1): Linear(in_features=800, out_features=500, bias=True)\n",
      "  (fc2): Linear(in_features=500, out_features=10, bias=True)\n",
      ")\n"
     ]
    }
   ],
   "source": [
    "#5. Net 클래스 객체를 만든 후 모델을 인쇄한다.\n",
    "model = Net()\n",
    "print(model)"
   ]
  },
  {
   "cell_type": "markdown",
   "metadata": {},
   "source": [
    "# Moving the model to a CUDA device"
   ]
  },
  {
   "cell_type": "code",
   "execution_count": 32,
   "metadata": {},
   "outputs": [
    {
     "name": "stdout",
     "output_type": "stream",
     "text": [
      "cpu\n"
     ]
    }
   ],
   "source": [
    "#1. Let's get the model's device:\n",
    "print(next(model.parameters()).device)"
   ]
  },
  {
   "cell_type": "code",
   "execution_count": 33,
   "metadata": {},
   "outputs": [
    {
     "name": "stdout",
     "output_type": "stream",
     "text": [
      "cuda:0\n"
     ]
    }
   ],
   "source": [
    "#2. Then, we will move the model to the CUDA device :\n",
    "device = torch.device(\"cuda:0\")\n",
    "model.to(device)\n",
    "print(next(model.parameters()).device)"
   ]
  },
  {
   "cell_type": "code",
   "execution_count": 34,
   "metadata": {},
   "outputs": [
    {
     "name": "stdout",
     "output_type": "stream",
     "text": [
      "Requirement already satisfied: torchsummary in c:\\users\\heojihae\\anaconda3\\lib\\site-packages (1.5.1)\n"
     ]
    }
   ],
   "source": [
    "!pip install torchsummary"
   ]
  },
  {
   "cell_type": "code",
   "execution_count": 35,
   "metadata": {},
   "outputs": [
    {
     "name": "stdout",
     "output_type": "stream",
     "text": [
      "----------------------------------------------------------------\n",
      "        Layer (type)               Output Shape         Param #\n",
      "================================================================\n",
      "            Conv2d-1           [-1, 20, 24, 24]             520\n",
      "            Conv2d-2             [-1, 50, 8, 8]          25,050\n",
      "            Linear-3                  [-1, 500]         400,500\n",
      "            Linear-4                   [-1, 10]           5,010\n",
      "================================================================\n",
      "Total params: 431,080\n",
      "Trainable params: 431,080\n",
      "Non-trainable params: 0\n",
      "----------------------------------------------------------------\n",
      "Input size (MB): 0.00\n",
      "Forward/backward pass size (MB): 0.12\n",
      "Params size (MB): 1.64\n",
      "Estimated Total Size (MB): 1.76\n",
      "----------------------------------------------------------------\n"
     ]
    }
   ],
   "source": [
    "# Output Shape 앞에 -1을 적는것은 귀찮거나 유추할 수 있으면 적는다.\n",
    "from torchsummary import summary\n",
    "# pytorch의 input shape는 (channels, width, height) 이다.\n",
    "summary(model, input_size = (1,28,28))"
   ]
  },
  {
   "cell_type": "markdown",
   "metadata": {},
   "source": [
    "# Defining the loss function and optimizer\n",
    "\n",
    "The loss function computes the distance between the model outputs and targets. It is also called the objective function, cost function or criterion. Depending on the problem, we will define the appropriate loss function. For instance, for classification problem, we usually define the cross-entropy loss.\n",
    "\n",
    "We use the optimizr to update the model parameters(also called weights) during training. The optim pacakge in PyTorch provides implementation of various optimization algorithms. These include stochastic gradient descent(SGD) and its variants, that is, Adam, RMSprop, and so on.\n",
    "\n",
    "\n",
    "\n",
    "stochastic gradient decent(확률적 경사 하강법)"
   ]
  },
  {
   "cell_type": "markdown",
   "metadata": {},
   "source": [
    "# How to do it..\n",
    "\n",
    "In this section, we will look at defining the loss function and optimizer in PyTorch."
   ]
  },
  {
   "cell_type": "markdown",
   "metadata": {},
   "source": [
    "# Defining the loss function\n",
    "\n",
    "We will define a loss function and test it on a mini-batch.  Let's get started:"
   ]
  },
  {
   "cell_type": "markdown",
   "metadata": {},
   "source": [
    "https://pytorch.org/docs/stable/generated/torch.nn.NLLLoss.html"
   ]
  },
  {
   "cell_type": "markdown",
   "metadata": {},
   "source": [
    "분류 문제에 대해 cross-entropy를 많이 쓴다."
   ]
  },
  {
   "cell_type": "code",
   "execution_count": 46,
   "metadata": {},
   "outputs": [],
   "source": [
    "# 1. First, we will define negative log-likelihood loss:\n",
    "# 음의 로그 우도 손실\n",
    "from torch import nn\n",
    "loss_func = nn.NLLLoss(reduction=\"sum\") #add all samples in a mini-batch\n",
    "\n",
    "# log likelihood는 -가 있다. 근데 loss는 최소를 구하는데 -가 있으면 최대가 될 수 있기 때문에\n",
    "# Negative log likelihood를 써서 최소를 구하는 loss 함수를 만들려고 한다."
   ]
  },
  {
   "cell_type": "code",
   "execution_count": 37,
   "metadata": {},
   "outputs": [
    {
     "name": "stdout",
     "output_type": "stream",
     "text": [
      "124.38412475585938\n"
     ]
    }
   ],
   "source": [
    "# 2. Let's test the loss function on a mini-batch:\n",
    "# loss 값이 고정적이지 않은 이유는 model에서 channel의 개수에 따라\n",
    "# kernel_size가 랜덤으로 추출되기 때문에 loss의 값이 달라진다.\n",
    "seed=0\n",
    "import numpy as np\n",
    "np.random.random(seed)\n",
    "for xb, yb in train_dl:\n",
    "    #move batch to cuda device\n",
    "    xb = xb.type(torch.float).to(device)\n",
    "    yb = yb.to(device)\n",
    "    #get model output\n",
    "    out = model(xb)\n",
    "    #calculate loss value\n",
    "    loss = loss_func(out, yb)\n",
    "    print(loss.item())# 총합 계산\n",
    "    break"
   ]
  },
  {
   "cell_type": "code",
   "execution_count": 41,
   "metadata": {},
   "outputs": [
    {
     "data": {
      "text/plain": [
       "tensor([[-2.6362e+01, -1.7310e+01, -8.1168e-01, -3.8518e+00, -3.1980e+01,\n",
       "         -9.9530e+00, -6.2885e-01, -6.5739e+00, -1.6577e+01, -2.4620e+01],\n",
       "        [-3.6910e+01, -2.3356e+01, -1.4852e-02, -1.0448e+01, -3.8554e+01,\n",
       "         -1.5895e+01, -4.2195e+00, -1.1850e+01, -2.7625e+01, -3.1823e+01],\n",
       "        [-2.8240e+01, -1.0403e+01, -1.0659e+01, -8.5332e+00, -2.1508e+01,\n",
       "         -9.7704e+00, -1.0304e-01, -2.3269e+00, -2.6078e+01, -1.4858e+01],\n",
       "        [-2.4262e+01, -1.0219e+01, -8.2132e+00, -2.8767e+00, -2.0456e+01,\n",
       "         -9.6866e-01, -5.7355e-01, -8.2574e+00, -1.4002e+01, -1.6626e+01],\n",
       "        [-2.6480e+01, -1.7006e+01, -7.4730e+00, -5.3152e-03, -2.9545e+01,\n",
       "         -5.6727e+00, -7.1715e+00, -7.5503e+00, -2.7519e+01, -2.4304e+01],\n",
       "        [-3.3283e+01, -1.4422e+01, -5.7311e+00, -4.1717e-01, -2.9049e+01,\n",
       "         -7.1165e+00, -1.0878e+00, -9.2916e+00, -2.1382e+01, -1.8803e+01],\n",
       "        [-2.2232e+01, -1.4820e+01, -7.4880e+00, -1.9452e-01, -2.2899e+01,\n",
       "         -3.1605e+00, -2.0117e+00, -1.0256e+01, -1.1826e+01, -1.3684e+01],\n",
       "        [-2.9982e+01, -9.9457e+00, -5.5335e+00, -9.3959e-01, -2.9281e+01,\n",
       "         -6.0901e+00, -5.0594e-01, -1.1295e+01, -2.1640e+01, -2.5745e+01]],\n",
       "       grad_fn=<LogSoftmaxBackward>)"
      ]
     },
     "execution_count": 41,
     "metadata": {},
     "output_type": "execute_result"
    }
   ],
   "source": [
    "out"
   ]
  },
  {
   "cell_type": "code",
   "execution_count": 43,
   "metadata": {},
   "outputs": [
    {
     "data": {
      "text/plain": [
       "torch.Size([8, 10])"
      ]
     },
     "execution_count": 43,
     "metadata": {},
     "output_type": "execute_result"
    }
   ],
   "source": [
    "out.shape"
   ]
  },
  {
   "cell_type": "code",
   "execution_count": 45,
   "metadata": {},
   "outputs": [
    {
     "data": {
      "text/plain": [
       "tensor([5, 0, 4, 1, 9, 2, 1, 3])"
      ]
     },
     "execution_count": 45,
     "metadata": {},
     "output_type": "execute_result"
    }
   ],
   "source": [
    "yb"
   ]
  },
  {
   "cell_type": "code",
   "execution_count": 38,
   "metadata": {},
   "outputs": [
    {
     "name": "stdout",
     "output_type": "stream",
     "text": [
      "cuda:0\n"
     ]
    }
   ],
   "source": [
    "#1. Let's get the model's device:\n",
    "print(next(model.parameters()).device)"
   ]
  },
  {
   "cell_type": "code",
   "execution_count": 39,
   "metadata": {},
   "outputs": [
    {
     "name": "stdout",
     "output_type": "stream",
     "text": [
      "cpu\n"
     ]
    }
   ],
   "source": [
    "#2. Then, we will move the model to the CUDA device :\n",
    "device = torch.device(\"cpu\")\n",
    "model.to(device)\n",
    "print(next(model.parameters()).device)"
   ]
  },
  {
   "cell_type": "code",
   "execution_count": 40,
   "metadata": {},
   "outputs": [
    {
     "name": "stdout",
     "output_type": "stream",
     "text": [
      "124.3841323852539\n"
     ]
    }
   ],
   "source": [
    "for xb, yb in train_dl:\n",
    "    #move batch to cuda device\n",
    "    xb = xb.type(torch.float).to(device)\n",
    "    yb = yb.to(device)\n",
    "    #get model output\n",
    "    out = model(xb)\n",
    "    #calculate loss value\n",
    "    loss = loss_func(out, yb)\n",
    "    print(loss.item()) # 총합 계산\n",
    "    break"
   ]
  },
  {
   "cell_type": "code",
   "execution_count": 41,
   "metadata": {},
   "outputs": [
    {
     "data": {
      "text/plain": [
       "tensor(99.9236, grad_fn=<NllLossBackward>)"
      ]
     },
     "execution_count": 41,
     "metadata": {},
     "output_type": "execute_result"
    }
   ],
   "source": [
    "loss"
   ]
  },
  {
   "cell_type": "code",
   "execution_count": 42,
   "metadata": {},
   "outputs": [],
   "source": [
    "# 3. Let's compute the gradients with respect to the following output:\n",
    "\n",
    "# computed gradients\n",
    "# loss의 gradient를 계산한다.\n",
    "# 역전파 단계 : 모델의 학습 가능한 모든 매개변수에 대해 손실의 변화도를 계산한다.\n",
    "loss.backward() # 편미분 착"
   ]
  },
  {
   "cell_type": "markdown",
   "metadata": {},
   "source": [
    "In the next step, we will show you how to define an optimizer."
   ]
  },
  {
   "cell_type": "markdown",
   "metadata": {},
   "source": [
    "# Defining the optimizer\n",
    "We will define the optimizer and present the steps backward. Let's get started:"
   ]
  },
  {
   "attachments": {
    "image.png": {
     "image/png": "[encoded data removed]"
    }
   },
   "cell_type": "markdown",
   "metadata": {},
   "source": [
    "![image.png](attachment:image.png)"
   ]
  },
  {
   "cell_type": "markdown",
   "metadata": {},
   "source": [
    "옵티마이저를 정의하고 뒤 단계를 제시합니다."
   ]
  },
  {
   "cell_type": "code",
   "execution_count": 43,
   "metadata": {},
   "outputs": [],
   "source": [
    "# 1. Let's define the Adam optimizer:\n",
    "\n",
    "# optimd은 최적화 방법을 모아놓은 패키지이다.\n",
    "# Adam 생성자의 첫번째 인자는 어떤 Tensor가 갱신되어야 하는지 알려준다.\n",
    "# params : 신경망에서 뽑아낸 가중치\n",
    "# model.parameters()를 인자로 받는다.\n",
    "from torch import optim\n",
    "opt = optim.Adam(model.parameters(), lr = 1e-4) # learning rate"
   ]
  },
  {
   "cell_type": "code",
   "execution_count": 44,
   "metadata": {},
   "outputs": [],
   "source": [
    "# 2. Use the following code to update the model parameters:\n",
    "\n",
    "#Update model parameters\n",
    "# Optimizer의 step 함수를 호출하면 매개변수가 갱신된다.\n",
    "opt.step()"
   ]
  },
  {
   "cell_type": "code",
   "execution_count": 45,
   "metadata": {},
   "outputs": [],
   "source": [
    "# 3. Next, we set the gradients to zero:\n",
    "\n",
    "# zero_grad() 함수로 신경망 파라미터들의 gradient를 0으로 초기화 시킨다.\n",
    "opt.zero_grad()"
   ]
  },
  {
   "cell_type": "code",
   "execution_count": 46,
   "metadata": {},
   "outputs": [],
   "source": [
    "# How it works and see also"
   ]
  },
  {
   "cell_type": "code",
   "execution_count": null,
   "metadata": {},
   "outputs": [],
   "source": []
  },
  {
   "cell_type": "markdown",
   "metadata": {},
   "source": [
    "# Training and evaluation\n",
    "\n",
    "Once all the ingredients are ready, we can training the model. In this recipe, you will learn how to properly train and evaluate a deep learning model."
   ]
  },
  {
   "cell_type": "markdown",
   "metadata": {},
   "source": [
    "# How to do it...\n",
    "\n",
    "We will develop helper functions for batch and epoch processing and training the model."
   ]
  },
  {
   "cell_type": "markdown",
   "metadata": {},
   "source": [
    "미니배치 = 조각을 낸다.\n",
    "배치 사이즈 = 몇 개 잡아서 돌린다."
   ]
  },
  {
   "cell_type": "code",
   "execution_count": 47,
   "metadata": {},
   "outputs": [],
   "source": [
    "#1. 미니배치 당 손실 값을 계산하는 함수를 정의\n",
    "\n",
    "def loss_batch(loss_dunc, xb, yb, yb_h, opt=None):\n",
    "    #obtain loss\n",
    "    loss = loss_func(yb_h, yb)\n",
    "    #obtain performance metric(성능 메트릭스)\n",
    "    metric_b = metrics_batch(yb, yb_h)\n",
    "    # 각 매개 변수를 수동으로 업데이트 하는 대신 최적화 프로그램의 방법을 \n",
    "    # 사용한다.\n",
    "    if opt is not None: # 손실이 none이면 돌 필요 x\n",
    "        loss.backward() # loss를 역전파 알고리즘으로 계산\n",
    "        opt.step() # 계산한 기울기를 정의한 알고리즘에 맞춰 가중치를 수정\n",
    "        opt.zero_grad() # 반복때마다 기울기를 새로 계산하므로 이 함수로 초기화\n",
    "        # optimizer의 zero_grad()함수로 신경망 파라미터들의 gradient를 0으로 초기화\n",
    "        # loss 값을 계산한 후, backward()함수를 호출해\n",
    "        # 각 파라미터의 gradient를 계산한다.\n",
    "        # 지정한 optimizer의 step() 한수를 호출하여 신경망 파라미터를 업데이트.\n",
    "    return loss.item(), metric_b    "
   ]
  },
  {
   "cell_type": "markdown",
   "metadata": {},
   "source": [
    "opt.zero_grad()<br>\n",
    "이전 step에서 각 layer 별로 계산된 gradient 값을 모두 0으로 초기화 시키는 작업이다. 이를 하지 않으면 이전 step의 결과에 현재 step의 gradient가 누적으로 합쳐져 계산된다.<br>\n",
    "loss.backward()<br>\n",
    "각 layer의 파마리터에 대해 back-propargation을 통해 gradient를 계산한다.<br>\n",
    "opt.step()<br>\n",
    "각 layer의 파라미터와 같이 저장된 gradient 값을 이용해 파라미터를 업데이트한다. 이를 통해 파라미터가 업데이트되어 모델의 성능이 개선된다.\n",
    "\n",
    "weight를 업데이트 하는 시점은 opt.step()가 실행되는 시점이다.\n",
    "loss.backward() 연산을 한 후 opt.step()를 통해 weight를 업데이트한다."
   ]
  },
  {
   "cell_type": "code",
   "execution_count": 48,
   "metadata": {},
   "outputs": [],
   "source": [
    "# 2. 미니배치 당 정확도를 계산하는 함수를 정의\n",
    "def metrics_batch(target, output):\n",
    "    #obtain output class\n",
    "    #첫번째 축을 기준으로 연산을 함\n",
    "    pred = output.argmax(dim=1, keepdim=True) # 최대 log 확률의 값의 인덱스 위치 구하기\n",
    "    #compare output class with target class\n",
    "    # torch.eq(input,other,*,out=None)\n",
    "    #target 텐서를 view_as 함수 안에 들어가느 pred 모양대로 다시 정렬한다.\n",
    "    #즉, pred.eq(data)는 pred배열과 data가 일치하는지 보는 것이다.\n",
    "    # .sum()을 하므로 일치하는 것들의 개수의 합을 숫자(스칼라)로 출력\n",
    "    corrects = pred.eq(target.view_as(pred)).sum().item()\n",
    "    return corrects"
   ]
  },
  {
   "cell_type": "code",
   "execution_count": 73,
   "metadata": {},
   "outputs": [
    {
     "data": {
      "text/plain": [
       "tensor([[-3.0667e+01, -2.4224e+01, -3.2709e+01, -5.2002e+00, -2.8257e+01,\n",
       "         -5.5311e-03, -2.6161e+01, -2.0014e+01, -1.6635e+01, -1.5409e+01],\n",
       "        [ 0.0000e+00, -3.5420e+01, -1.8707e+01, -3.4698e+01, -2.6480e+01,\n",
       "         -3.5031e+01, -2.2053e+01, -3.5238e+01, -2.4127e+01, -2.4665e+01],\n",
       "        [-4.3507e+01, -2.7672e+01, -2.3126e+01, -4.5938e+01,  0.0000e+00,\n",
       "         -3.2500e+01, -4.7117e+01, -3.0065e+01, -3.1988e+01, -2.4160e+01],\n",
       "        [-3.6372e+01,  0.0000e+00, -2.6109e+01, -4.5349e+01, -2.2107e+01,\n",
       "         -3.4750e+01, -3.1715e+01, -2.4006e+01, -2.3299e+01, -3.8024e+01],\n",
       "        [-3.2186e+01, -2.6076e+01, -3.0058e+01, -2.4711e+01, -1.2538e+01,\n",
       "         -2.3082e+01, -3.1001e+01, -2.1813e+01, -1.3690e+01, -4.7684e-06],\n",
       "        [-4.4057e+01, -3.7921e+01,  0.0000e+00, -3.4149e+01, -3.7454e+01,\n",
       "         -4.1161e+01, -4.5043e+01, -4.3968e+01, -2.5745e+01, -4.5299e+01],\n",
       "        [-2.9208e+01, -1.1921e-07, -2.7595e+01, -3.6546e+01, -1.5574e+01,\n",
       "         -2.5170e+01, -2.9008e+01, -2.9407e+01, -1.9993e+01, -2.2078e+01],\n",
       "        [-4.9442e+01, -3.3693e+01, -2.5590e+01,  0.0000e+00, -3.9849e+01,\n",
       "         -2.8080e+01, -5.0287e+01, -2.5876e+01, -2.9252e+01, -2.8690e+01]],\n",
       "       grad_fn=<LogSoftmaxBackward>)"
      ]
     },
     "execution_count": 73,
     "metadata": {},
     "output_type": "execute_result"
    }
   ],
   "source": [
    "model(xb)"
   ]
  },
  {
   "cell_type": "code",
   "execution_count": 68,
   "metadata": {},
   "outputs": [
    {
     "data": {
      "text/plain": [
       "tensor([[5],\n",
       "        [0],\n",
       "        [4],\n",
       "        [1],\n",
       "        [9],\n",
       "        [2],\n",
       "        [1],\n",
       "        [3]])"
      ]
     },
     "execution_count": 68,
     "metadata": {},
     "output_type": "execute_result"
    }
   ],
   "source": [
    "# output = model(xb)\n",
    "a = model(xb).argmax(dim=1, keepdim=True) # 가로로 계산해서 가장 큰 인덱스를 뽑아냄\n",
    "a"
   ]
  },
  {
   "cell_type": "code",
   "execution_count": 58,
   "metadata": {},
   "outputs": [
    {
     "data": {
      "text/plain": [
       "tensor([5, 0, 4, 1, 9, 2, 1, 3])"
      ]
     },
     "execution_count": 58,
     "metadata": {},
     "output_type": "execute_result"
    }
   ],
   "source": [
    "#target\n",
    "yb"
   ]
  },
  {
   "cell_type": "code",
   "execution_count": 67,
   "metadata": {},
   "outputs": [
    {
     "data": {
      "text/plain": [
       "tensor([[5],\n",
       "        [0],\n",
       "        [4],\n",
       "        [1],\n",
       "        [9],\n",
       "        [2],\n",
       "        [1],\n",
       "        [3]])"
      ]
     },
     "execution_count": 67,
     "metadata": {},
     "output_type": "execute_result"
    }
   ],
   "source": [
    "yb.view_as(a) # target의 형태를 a와 같이 맞춰줌"
   ]
  },
  {
   "cell_type": "code",
   "execution_count": 72,
   "metadata": {},
   "outputs": [
    {
     "data": {
      "text/plain": [
       "tensor(8)"
      ]
     },
     "execution_count": 72,
     "metadata": {},
     "output_type": "execute_result"
    }
   ],
   "source": [
    "a.eq(yb.view_as(a)).sum() # 저 두개중 겹치는 값의 숫자 출력"
   ]
  },
  {
   "cell_type": "code",
   "execution_count": 51,
   "metadata": {},
   "outputs": [],
   "source": [
    "# 3. 데이터셋의 손실과 metric values을 계산하는 도우미 함수를 정의한다.\n",
    "\n",
    "def loss_epoch(model, loss_func, dataset_dl, opt=None):\n",
    "    loss = 0.0\n",
    "    metric = 0.0\n",
    "    len_data = len(dataset_dl.dataset)\n",
    "    for xb, yb in dataset_dl:\n",
    "        xb = xb.type(torch.float).to(device)\n",
    "        yb = yb.to(device)\n",
    "        #obtain model output\n",
    "        yb_h = model(xb)\n",
    "        \n",
    "        loss_b, metric_b = loss_batch(loss_func, xb, yb, yb_h, opt)\n",
    "        loss += loss_b # 덮어쓰기\n",
    "        if metric_b is not None :\n",
    "            metric += metric_b # 왼쪽 변수에 오른쪽 값을 더하고 그 결과를 왼쪽 변수\n",
    "                               # 에 할당\n",
    "    loss /= len_data\n",
    "    metric/=len_data\n",
    "    return loss, metric"
   ]
  },
  {
   "cell_type": "code",
   "execution_count": 75,
   "metadata": {},
   "outputs": [
    {
     "name": "stdout",
     "output_type": "stream",
     "text": [
      "7500\n"
     ]
    }
   ],
   "source": [
    "a = 0\n",
    "for xb, yb in train_dl:\n",
    "    a += 1\n",
    "print(a)"
   ]
  },
  {
   "cell_type": "code",
   "execution_count": 57,
   "metadata": {},
   "outputs": [
    {
     "data": {
      "text/plain": [
       "60000"
      ]
     },
     "execution_count": 57,
     "metadata": {},
     "output_type": "execute_result"
    }
   ],
   "source": [
    "len(train_dl.dataset)"
   ]
  },
  {
   "cell_type": "code",
   "execution_count": 76,
   "metadata": {},
   "outputs": [],
   "source": [
    "# 4. Finally, we will define the train_val function:\n",
    "\n",
    "def train_val(epochs, model, loss_func, opt, train_dl, val_dl):\n",
    "    for epoch in range(epochs):\n",
    "        model.train() # 모델을 학습 모드로 변환\n",
    "        train_loss,train_metric = loss_epoch(model, loss_func, train_dl, opt)\n",
    "        # eval mode에서 사용할것이라고 모든 레이어에 선언\n",
    "        # 배치정규화나 dropout layer들은 학습모드 대신에 eval mode로 작동한다.\n",
    "        # eval 모드에서 dropout은 비활성화, 배치 정규화는 학습에서 저장된 파라미터\n",
    "        # 사용\n",
    "        model.eval() \n",
    "        # 오차 역전파에서 사용하는 계산량을 줄여 처리 속도를 높인다.\n",
    "        #with torch.no_grad():\n",
    "        val_loss, val_metric = loss_epoch(model, loss_func,val_dl)\n",
    "        accuracy = 100 * val_metric\n",
    "        # %.6f : 소수점 6째자리까지 실수형 변수\n",
    "        # %d : 정수\n",
    "        # %s : 문자열\n",
    "        print(\"epoch : %d, train loss : %.6f, val loss : %.6f, acuuracy: %.2f\"\n",
    "                %(epoch, train_loss, val_loss, accuracy))"
   ]
  },
  {
   "cell_type": "code",
   "execution_count": 77,
   "metadata": {},
   "outputs": [
    {
     "name": "stdout",
     "output_type": "stream",
     "text": [
      "epoch : 0, train loss : 0.012252, val loss : 0.054629, acuuracy: 98.89\n",
      "epoch : 1, train loss : 0.009762, val loss : 0.060160, acuuracy: 98.78\n",
      "epoch : 2, train loss : 0.010074, val loss : 0.043671, acuuracy: 99.00\n",
      "epoch : 3, train loss : 0.008723, val loss : 0.063408, acuuracy: 98.90\n",
      "epoch : 4, train loss : 0.008425, val loss : 0.060979, acuuracy: 99.01\n"
     ]
    }
   ],
   "source": [
    "# 5. Let's train the model for a few epochs:\n",
    "\n",
    "#call train_val function\n",
    "num_epochs=5\n",
    "train_val(num_epochs, model, loss_func, opt, train_dl, val_dl)"
   ]
  },
  {
   "cell_type": "markdown",
   "metadata": {},
   "source": [
    "# Storing and loading models\n",
    "\n",
    "Once training is complete, we'll want to store the trained parameters in a file for deployment and future use. There are two ways of doing so.\n",
    "\n",
    "Let's  look at the first method :"
   ]
  },
  {
   "cell_type": "code",
   "execution_count": 54,
   "metadata": {},
   "outputs": [],
   "source": [
    "#1. First, we will store the model parameters orstate_dict in a file:\n",
    "\n",
    "# define path2weights\n",
    "path2weights=\"./models/weight.pt\"\n",
    "\n",
    "# store state_dict to file\n",
    "# torch.save(objectm path) : 객체를 디스크에 저장한다.\n",
    "# pickle 모듈을 이용해 객체를 직렬화하며 이 함수를 사용해 모든 종류를 저장 가능\n",
    "# state_dict : 각 체층을 매개변수 Tensor로 매핑한 파이썬 사전 객체이다.\n",
    "# 파라미터를 저장하려고 state_dict를 함\n",
    "torch.save(model.state_dict(), path2weights)\n",
    "# 즉 모델 객체의 state_dict를 path2weights에 저장한다."
   ]
  },
  {
   "cell_type": "code",
   "execution_count": 55,
   "metadata": {},
   "outputs": [],
   "source": [
    "#2. To load the model parameters from the file, we will define an object \n",
    "#of the Net class:\n",
    "\n",
    "#define model : weights are randomly initiated\n",
    "# 모델 선언 !\n",
    "_model = Net()"
   ]
  },
  {
   "cell_type": "code",
   "execution_count": 56,
   "metadata": {},
   "outputs": [],
   "source": [
    "#3. Then, we will ;oad state_dict from the file:\n",
    "# torch.load : 전체 모델을 불러오거나 모델의 state_dict를 불러올 때 사용한다.\n",
    "weights = torch.load(path2weights)"
   ]
  },
  {
   "cell_type": "code",
   "execution_count": 57,
   "metadata": {},
   "outputs": [
    {
     "data": {
      "text/plain": [
       "<All keys matched successfully>"
      ]
     },
     "execution_count": 57,
     "metadata": {},
     "output_type": "execute_result"
    }
   ],
   "source": [
    "#4. Next, we will set state_dict to the model :\n",
    "#역직렬화된 state_dict를 사용해 모델의 매개변수를 불러온다.\n",
    "_model.load_state_dict(weights)"
   ]
  },
  {
   "cell_type": "markdown",
   "metadata": {},
   "source": [
    "Let's  look at the second method :"
   ]
  },
  {
   "cell_type": "code",
   "execution_count": 58,
   "metadata": {},
   "outputs": [],
   "source": [
    "#1. First, we will store the model in a file:\n",
    "\n",
    "# define a path2model\n",
    "path2model=\"./models/model.pt\"\n",
    "\n",
    "# store model and weights into local file\n",
    "torch.save(model,path2model)\n"
   ]
  },
  {
   "cell_type": "code",
   "execution_count": 59,
   "metadata": {},
   "outputs": [],
   "source": [
    "#2. To load the model parameters from the file, we will define an object \n",
    "# of the Net class:\n",
    "\n",
    "#define model :  weights into a file\n",
    "_model = Net()"
   ]
  },
  {
   "cell_type": "code",
   "execution_count": 60,
   "metadata": {},
   "outputs": [],
   "source": [
    "#3. Then, we will load the model from the local file:\n",
    "\n",
    "_model = torch.load(path2model)"
   ]
  },
  {
   "cell_type": "markdown",
   "metadata": {},
   "source": [
    "# Deploying the model\n",
    "\n",
    "To deploy a model, we need to load the model using methods described in the previous srction. Once the model has been loaded into memory, we can pass new data to the model.\n",
    "\n",
    "Let's started:"
   ]
  },
  {
   "cell_type": "code",
   "execution_count": 61,
   "metadata": {},
   "outputs": [
    {
     "name": "stdout",
     "output_type": "stream",
     "text": [
      "torch.Size([1, 28, 28])\n"
     ]
    },
    {
     "data": {
      "text/plain": [
       "<matplotlib.image.AxesImage at 0x14f908601c0>"
      ]
     },
     "execution_count": 61,
     "metadata": {},
     "output_type": "execute_result"
    },
    {
     "data": {
      "image/png": "[encoded data removed]",
      "text/plain": [
       "<Figure size 432x288 with 1 Axes>"
      ]
     },
     "metadata": {
      "needs_background": "light"
     },
     "output_type": "display_data"
    }
   ],
   "source": [
    "#1. To deploy the model on a sample image from the validation dataset, we will get \n",
    "# a sample tensor:\n",
    "n=100\n",
    "x=x_val[n]\n",
    "y=y_val[n]\n",
    "print(x.shape)\n",
    "plt.imshow(x.numpy()[0],cmap=\"gray\")"
   ]
  },
  {
   "cell_type": "code",
   "execution_count": 62,
   "metadata": {},
   "outputs": [],
   "source": [
    "#2. Then, we will preprocess the tensor:\n",
    "\n",
    "#we use unsqueeze to expand dimension to 1*C*H*W\n",
    "x = x.unsqueeze(0)\n",
    "\n",
    "#convert to torch.float32\n",
    "x = x.type(torch.float)\n",
    "\n",
    "#move to cuda device\n",
    "x = x.to(device)"
   ]
  },
  {
   "cell_type": "code",
   "execution_count": 63,
   "metadata": {},
   "outputs": [
    {
     "name": "stdout",
     "output_type": "stream",
     "text": [
      "6 6\n"
     ]
    }
   ],
   "source": [
    "#3. Next, we will get the model prediction:\n",
    "\n",
    "#get model output\n",
    "output = _model(x)\n",
    "\n",
    "#get predicted class\n",
    "pred = output.argmax(dim=1, keepdim=True)\n",
    "print(pred.item(), y.item())"
   ]
  },
  {
   "cell_type": "code",
   "execution_count": null,
   "metadata": {},
   "outputs": [],
   "source": []
  }
 ],
 "metadata": {
  "kernelspec": {
   "display_name": "Python 3",
   "language": "python",
   "name": "python3"
  },
  "language_info": {
   "codemirror_mode": {
    "name": "ipython",
    "version": 3
   },
   "file_extension": ".py",
   "mimetype": "text/x-python",
   "name": "python",
   "nbconvert_exporter": "python",
   "pygments_lexer": "ipython3",
   "version": "3.8.5"
  }
 },
 "nbformat": 4,
 "nbformat_minor": 4
}
