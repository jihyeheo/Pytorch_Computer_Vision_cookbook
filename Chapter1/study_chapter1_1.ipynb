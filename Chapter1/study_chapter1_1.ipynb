{
 "cells": [
  {
   "cell_type": "markdown",
   "metadata": {},
   "source": [
    "# Working with Pytorch tensors\n",
    "\n",
    "Pytorch is build on tensors.\n",
    "A Pytorch tensor is an n-dimensional array, similar to Numpy arrays\n",
    "If you are familiar with Numpy, you will see a similarity in the syntax(구문) when working with tensors, as shown in the following table:"
   ]
  },
  {
   "cell_type": "markdown",
   "metadata": {},
   "source": [
    "|NumPy Arrays|Pytorch tensors|Description|\n",
    "|-----------|-------------|----------|\n",
    "|numpy.ones(.)|torch.ones(.)|Create an array of ones|\n",
    "|numpy.zeros(.)|torch.zeros(.)|Create an array of zeros|\n",
    "|numpy.random.rand(.)|torch.rand(.)|Create a random array|\n",
    "|numpy.array(.)|torch.tensor(.)|Create an array from given values|\n",
    "|x.shape|x.shape or x.size()|Get an array shape|\n"
   ]
  },
  {
   "cell_type": "markdown",
   "metadata": {},
   "source": [
    "In this table,<br>\n",
    "1. define and change tensors<br>\n",
    "2. convert(변하다) tensors into arrays<br>\n",
    "3. move them between computing devices<br>"
   ]
  },
  {
   "cell_type": "markdown",
   "metadata": {},
   "source": [
    "# How to do it ...\n",
    "\n",
    "folliwing code example, launch Python or Jupyter Notebook"
   ]
  },
  {
   "cell_type": "markdown",
   "metadata": {},
   "source": [
    "# Defining the tensor data type\n",
    "\n",
    "The default tensor data type is **torch.float32**. This is the most used data type for tensor operations(조작,운영)."
   ]
  },
  {
   "cell_type": "code",
   "execution_count": 1,
   "metadata": {},
   "outputs": [
    {
     "name": "stdout",
     "output_type": "stream",
     "text": [
      "tensor([[1., 1.],\n",
      "        [1., 1.]])\n",
      "torch.float32\n"
     ]
    }
   ],
   "source": [
    "#1. Define a tensor with a default data type:\n",
    "import torch\n",
    "x = torch.ones(2,2)\n",
    "print(x)\n",
    "print(x.dtype) # 자료형"
   ]
  },
  {
   "cell_type": "code",
   "execution_count": 2,
   "metadata": {},
   "outputs": [
    {
     "name": "stdout",
     "output_type": "stream",
     "text": [
      "tensor([[1, 1],\n",
      "        [1, 1]], dtype=torch.int8)\n",
      "torch.int8\n"
     ]
    }
   ],
   "source": [
    "#2. Specify the data type when defining a tensor:\n",
    "x = torch.ones(2,2,dtype=torch.int8)\n",
    "print(x)\n",
    "print(x.dtype)"
   ]
  },
  {
   "cell_type": "markdown",
   "metadata": {},
   "source": [
    "# Changing the tensor's data type\n",
    "\n",
    "We can change a tensor's data type using the \".type\" method"
   ]
  },
  {
   "cell_type": "code",
   "execution_count": 3,
   "metadata": {},
   "outputs": [
    {
     "name": "stdout",
     "output_type": "stream",
     "text": [
      "torch.uint8\n"
     ]
    }
   ],
   "source": [
    "#1. Define a tensor with torch.uint8 type:\n",
    "x = torch.ones(1, dtype=torch.uint8)\n",
    "print(x.dtype)"
   ]
  },
  {
   "cell_type": "code",
   "execution_count": 4,
   "metadata": {},
   "outputs": [
    {
     "name": "stdout",
     "output_type": "stream",
     "text": [
      "torch.float32\n"
     ]
    }
   ],
   "source": [
    "#2. Change the tensor data type:\n",
    "x = x.type(torch.float)\n",
    "print(x.dtype)"
   ]
  },
  {
   "cell_type": "markdown",
   "metadata": {},
   "source": [
    "# Converting tensor into Numpy arrays\n",
    "\n",
    "convert PyTorch tensors into NumPy arrays"
   ]
  },
  {
   "cell_type": "code",
   "execution_count": 5,
   "metadata": {},
   "outputs": [
    {
     "name": "stdout",
     "output_type": "stream",
     "text": [
      "tensor([[0.7159, 0.1800],\n",
      "        [0.1474, 0.5847]])\n",
      "torch.float32\n"
     ]
    }
   ],
   "source": [
    "#1. Define a tensor:\n",
    "x = torch.rand(2,2)\n",
    "print(x)\n",
    "print(x.dtype)"
   ]
  },
  {
   "cell_type": "code",
   "execution_count": 6,
   "metadata": {},
   "outputs": [
    {
     "name": "stdout",
     "output_type": "stream",
     "text": [
      "[[0.715915   0.18002516]\n",
      " [0.14739436 0.5846806 ]]\n",
      "float32\n"
     ]
    }
   ],
   "source": [
    "#2. Convert the tensor into a NumPy array:\n",
    "y = x.numpy()\n",
    "print(y)\n",
    "print(y.dtype)"
   ]
  },
  {
   "cell_type": "markdown",
   "metadata": {},
   "source": [
    "# Converting Numpy arrays into tensors\n",
    "\n",
    "convert NumPy arrays into  PyTorch tensors  "
   ]
  },
  {
   "cell_type": "code",
   "execution_count": 7,
   "metadata": {},
   "outputs": [
    {
     "name": "stdout",
     "output_type": "stream",
     "text": [
      "[[0. 0.]\n",
      " [0. 0.]]\n",
      "float32\n"
     ]
    }
   ],
   "source": [
    "#1. Define a NumPy array:\n",
    "import numpy as np\n",
    "x = np.zeros((2,2),dtype=np.float32)\n",
    "print(x)\n",
    "print(x.dtype)"
   ]
  },
  {
   "cell_type": "code",
   "execution_count": 8,
   "metadata": {},
   "outputs": [
    {
     "name": "stdout",
     "output_type": "stream",
     "text": [
      "tensor([[0., 0.],\n",
      "        [0., 0.]])\n",
      "torch.float32\n"
     ]
    }
   ],
   "source": [
    "#2. Convert the NumPy array into a Pytorch tensor:\n",
    "y = torch.from_numpy(x)\n",
    "print(y)\n",
    "print(y.dtype)"
   ]
  },
  {
   "cell_type": "markdown",
   "metadata": {},
   "source": [
    "# Moving tensors between devices\n",
    "\n"
   ]
  },
  {
   "cell_type": "markdown",
   "metadata": {},
   "source": [
    "Pytorch tensors are sorted on the CPU. Pytorch tensors can be utilized(활용) on a GPU to speed up coming. This is the main advantage(이점) of tensors compared(비교) to Numpy arrays. To get this advantage, we need to move the tensors to the CUDA(gpu 개발 tool) device. We can move tensors onto any device using the \".to\" metohd"
   ]
  },
  {
   "cell_type": "code",
   "execution_count": 9,
   "metadata": {},
   "outputs": [
    {
     "name": "stdout",
     "output_type": "stream",
     "text": [
      "tensor([1.5000, 2.0000])\n",
      "cpu\n"
     ]
    }
   ],
   "source": [
    "import torch\n",
    "#1. Define a tensor on CPU:\n",
    "x = torch.tensor([1.5,2])\n",
    "print(x)\n",
    "print(x.device)"
   ]
  },
  {
   "cell_type": "code",
   "execution_count": 16,
   "metadata": {},
   "outputs": [],
   "source": [
    "#2. Define a CUDA device:\n",
    "if torch.cuda.is_available():\n",
    "    device = torch.device(\"cuda\")\n"
   ]
  },
  {
   "cell_type": "code",
   "execution_count": 11,
   "metadata": {},
   "outputs": [
    {
     "name": "stdout",
     "output_type": "stream",
     "text": [
      "tensor([1.5000, 2.0000], device='cuda:0')\n",
      "cuda:0\n"
     ]
    }
   ],
   "source": [
    "#3. Move the tensor onto the CUDA device:\n",
    "x = x.to(device)\n",
    "print(x)\n",
    "print(x.device)"
   ]
  },
  {
   "cell_type": "code",
   "execution_count": 12,
   "metadata": {},
   "outputs": [
    {
     "name": "stdout",
     "output_type": "stream",
     "text": [
      "tensor([1.5000, 2.0000])\n",
      "cpu\n"
     ]
    }
   ],
   "source": [
    "#4. Similarly, we can move tensors to CPU:\n",
    "device = torch.device(\"cpu\")\n",
    "x = x.to(device)\n",
    "print(x)\n",
    "print(x.device)"
   ]
  },
  {
   "cell_type": "code",
   "execution_count": 15,
   "metadata": {},
   "outputs": [
    {
     "name": "stdout",
     "output_type": "stream",
     "text": [
      "tensor([[1., 1.],\n",
      "        [1., 1.]], device='cuda:0')\n"
     ]
    }
   ],
   "source": [
    "#5. We can also directly create a tensor on any device:\n",
    "device = torch.device(\"cuda:0\")\n",
    "x = torch.ones(2,2,device=device)\n",
    "print(x)"
   ]
  },
  {
   "cell_type": "markdown",
   "metadata": {},
   "source": [
    "# How it works..."
   ]
  },
  {
   "cell_type": "markdown",
   "metadata": {},
   "source": [
    "First, we defined a tensor obtained(획득) the tensor type, and changed its type. Then, we converted(변환) PyTorch tensors into NumPy arrays and vice versa(그 반대). We also moved tensors between the CPU and CUDA devices. **Next, we showed you how to change a tensor data type using the \".type\" method.** Then, we showed how to convert PyTorch tensors into Numpy arrays using the \".numpy method."
   ]
  },
  {
   "cell_type": "markdown",
   "metadata": {},
   "source": [
    "After that, we showed you how to convert a NumPy array into a Pytorch tensor using the \".from_numpy(x)\" method. Then, to move tensors from a CPU device to a GPU device and vice versa, using the \".to\"method. As you have seen,(보다시피) if you do not specifiy the device, the tensor will be hostrd on the CPU device."
   ]
  },
  {
   "cell_type": "markdown",
   "metadata": {},
   "source": [
    "Tensor types : https://pytorch.org.docs/stable/tensors.html"
   ]
  },
  {
   "cell_type": "markdown",
   "metadata": {},
   "source": [
    "# 2021.03.06"
   ]
  },
  {
   "cell_type": "markdown",
   "metadata": {},
   "source": [
    "# Loading and processing data"
   ]
  },
  {
   "cell_type": "markdown",
   "metadata": {},
   "source": [
    "In most cases, it's assumed that we receive data in three groups : training, validation, test\n",
    "\n",
    "We use the training dataset to train the model.\n",
    "The validation dataset is used to track the model's performance during training.\n",
    "We use the test dataset for the final evaluation of the model.\n",
    "The target values of the test dataset are usually hidden from us.(테스트 데이터셋의 타겟값은 우리에게 숨겨져 있다.) We need at least one training dataset and one validation dataset to be able to develop and train a model.\n",
    "Sometimes, we receive only one dataset.In such cases, we can split the dataset into two or three groups\n",
    "\n",
    "\n",
    "Each dataset is comprised of inputs and targets. It is common to represent(말하다) the inputs with x or X and the targets with y or Y. We add the suffixes train,val,test to distinguish(드러내가다) each dataset.\n",
    "\n",
    "In this recipe, we will learn about Pytorch data tools. We can use these tools to load and process data."
   ]
  },
  {
   "cell_type": "markdown",
   "metadata": {},
   "source": [
    "# How to do it.."
   ]
  },
  {
   "cell_type": "markdown",
   "metadata": {},
   "source": [
    "In the following sections, you will learn how to use Pytorch packages to work with datasets."
   ]
  },
  {
   "cell_type": "markdown",
   "metadata": {},
   "source": [
    "# Loading a dataset"
   ]
  },
  {
   "cell_type": "markdown",
   "metadata": {},
   "source": [
    "The Pytorch \"torchvision\" pacakge provides multiple popular datasets."
   ]
  },
  {
   "cell_type": "code",
   "execution_count": 1,
   "metadata": {},
   "outputs": [
    {
     "name": "stdout",
     "output_type": "stream",
     "text": [
      "Downloading http://yann.lecun.com/exdb/mnist/train-images-idx3-ubyte.gz to ./data\\MNIST\\raw\\train-images-idx3-ubyte.gz\n"
     ]
    },
    {
     "data": {
      "application/vnd.jupyter.widget-view+json": {
       "model_id": "c3efeaad3fe84bd7a6796e9809cf1b10",
       "version_major": 2,
       "version_minor": 0
      },
      "text/plain": [
       "HBox(children=(HTML(value=''), FloatProgress(value=1.0, bar_style='info', layout=Layout(width='20px'), max=1.0…"
      ]
     },
     "metadata": {},
     "output_type": "display_data"
    },
    {
     "name": "stdout",
     "output_type": "stream",
     "text": [
      "Extracting ./data\\MNIST\\raw\\train-images-idx3-ubyte.gz to ./data\\MNIST\\raw\n",
      "Downloading http://yann.lecun.com/exdb/mnist/train-labels-idx1-ubyte.gz to ./data\\MNIST\\raw\\train-labels-idx1-ubyte.gz\n"
     ]
    },
    {
     "data": {
      "application/vnd.jupyter.widget-view+json": {
       "model_id": "e9e6af549cee4913a1f89d24c86f91ec",
       "version_major": 2,
       "version_minor": 0
      },
      "text/plain": [
       "HBox(children=(HTML(value=''), FloatProgress(value=1.0, bar_style='info', layout=Layout(width='20px'), max=1.0…"
      ]
     },
     "metadata": {},
     "output_type": "display_data"
    },
    {
     "name": "stdout",
     "output_type": "stream",
     "text": [
      "Extracting ./data\\MNIST\\raw\\train-labels-idx1-ubyte.gz to ./data\\MNIST\\raw\n",
      "Downloading http://yann.lecun.com/exdb/mnist/t10k-images-idx3-ubyte.gz to ./data\\MNIST\\raw\\t10k-images-idx3-ubyte.gz\n"
     ]
    },
    {
     "data": {
      "application/vnd.jupyter.widget-view+json": {
       "model_id": "9c1742ec1bc14161b9764d6afd32bd42",
       "version_major": 2,
       "version_minor": 0
      },
      "text/plain": [
       "HBox(children=(HTML(value=''), FloatProgress(value=1.0, bar_style='info', layout=Layout(width='20px'), max=1.0…"
      ]
     },
     "metadata": {},
     "output_type": "display_data"
    },
    {
     "name": "stdout",
     "output_type": "stream",
     "text": [
      "Extracting ./data\\MNIST\\raw\\t10k-images-idx3-ubyte.gz to ./data\\MNIST\\raw\n",
      "Downloading http://yann.lecun.com/exdb/mnist/t10k-labels-idx1-ubyte.gz to ./data\\MNIST\\raw\\t10k-labels-idx1-ubyte.gz\n"
     ]
    },
    {
     "data": {
      "application/vnd.jupyter.widget-view+json": {
       "model_id": "8db1c0aebf1b4b9fa9263d0e34c09534",
       "version_major": 2,
       "version_minor": 0
      },
      "text/plain": [
       "HBox(children=(HTML(value=''), FloatProgress(value=1.0, bar_style='info', layout=Layout(width='20px'), max=1.0…"
      ]
     },
     "metadata": {},
     "output_type": "display_data"
    },
    {
     "name": "stdout",
     "output_type": "stream",
     "text": [
      "Extracting ./data\\MNIST\\raw\\t10k-labels-idx1-ubyte.gz to ./data\\MNIST\\raw\n",
      "Processing...\n",
      "Done!\n"
     ]
    }
   ],
   "source": [
    "from torchvision import datasets\n",
    "\n",
    "# path to store data and/or load from\n",
    "path2data = \"./data\"\n",
    "\n",
    "# loading training data\n",
    "train_data = datasets.MNIST(path2data, train=True, download=True)"
   ]
  },
  {
   "cell_type": "code",
   "execution_count": null,
   "metadata": {},
   "outputs": [],
   "source": [
    "#2. T"
   ]
  }
 ],
 "metadata": {
  "kernelspec": {
   "display_name": "Python 3",
   "language": "python",
   "name": "python3"
  },
  "language_info": {
   "codemirror_mode": {
    "name": "ipython",
    "version": 3
   },
   "file_extension": ".py",
   "mimetype": "text/x-python",
   "name": "python",
   "nbconvert_exporter": "python",
   "pygments_lexer": "ipython3",
   "version": "3.8.5"
  }
 },
 "nbformat": 4,
 "nbformat_minor": 4
}
